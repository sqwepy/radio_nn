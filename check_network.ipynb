{
 "cells": [
  {
   "cell_type": "markdown",
   "id": "f912ccb3-3d86-478f-b321-3d0a09553631",
   "metadata": {},
   "source": [
    "### Important Notes\n",
    "- Interesting to note that the 0.01 percentage training of network with only antenna_pos as input still performs reasonably well on predicting the output of shower 33. "
   ]
  },
  {
   "cell_type": "code",
   "execution_count": null,
   "id": "de54cc03-8f9b-4dd7-b934-5e2a9268d0ce",
   "metadata": {
    "tags": []
   },
   "outputs": [],
   "source": [
    "import os\n",
    "import torch\n",
    "import numpy as np\n",
    "import tqdm\n",
    "from radioNN.data.loader import AntennaDataset\n",
    "\n",
    "from radioNN.networks.antenna_resnet_network import AntennaNetworkResNet\n",
    "from radioNN.networks.antenna_cnn_network import AntennaNetworkCNN\n",
    "from radioNN.networks.antenna_fc_network import AntennaNetworkFC\n",
    "from radioNN.networks.antenna_skipfc_network import AntennaNetworkSkipFC\n",
    "import scipy.interpolate as intp\n",
    "from radiotools.analyses import energy_fluence\n",
    "import matplotlib.pyplot as plt\n",
    "SMALL_SIZE = 14\n",
    "MEDIUM_SIZE = 16\n",
    "BIGGER_SIZE = 18\n",
    "\n",
    "plt.rc('font', size=SMALL_SIZE)          # controls default text sizes\n",
    "plt.rc('axes', titlesize=SMALL_SIZE)     # fontsize of the axes title\n",
    "plt.rc('axes', labelsize=MEDIUM_SIZE)    # fontsize of the x and y labels\n",
    "plt.rc('xtick', labelsize=SMALL_SIZE)    # fontsize of the tick labels\n",
    "plt.rc('ytick', labelsize=SMALL_SIZE)    # fontsize of the tick labels\n",
    "plt.rc('legend', fontsize=SMALL_SIZE)    # legend fontsize\n",
    "plt.rc('figure', titlesize=BIGGER_SIZE)  # fontsize of the figure title\n",
    "%matplotlib inline\n",
    "fnt_size = 20\n",
    "plt.rc('text', usetex=True)\n",
    "\n",
    "from radioNN.process_network import NetworkProcess\n",
    "radio_data_path = \"/Users/denis/Desktop/BachelorThesis/memmap\"\n",
    "memmap_mode = \"r\"\n",
    "if not os.path.exists(radio_data_path):\n",
    "    radio_data_path = \"/home/pranav/work-stuff-unsynced/radio_data\"\n",
    "    memmap_mode = \"r\"\n",
    "assert os.path.exists(radio_data_path)\n",
    "input_data_file = os.path.join(radio_data_path, \"input_data.npy\")\n",
    "input_meta_file = os.path.join(radio_data_path, \"meta_data.npy\")\n",
    "antenna_pos_file = os.path.join(\n",
    "    radio_data_path, \"antenna_pos_data.npy\"\n",
    ")\n",
    "output_meta_file = os.path.join(\n",
    "    radio_data_path, \"output_meta_data.npy\"\n",
    ")\n",
    "output_file = os.path.join(radio_data_path, \"output_gece_data.npy\")\n",
    "output_file = os.path.join(radio_data_path, \"output_vBvvB_data.npy\")\n",
    "\n",
    "dataset = AntennaDataset(\n",
    "    input_data_file,\n",
    "    input_meta_file,\n",
    "    antenna_pos_file,\n",
    "    output_meta_file,\n",
    "    output_file,\n",
    "    mmap_mode=memmap_mode,\n",
    "    one_shower=33,\n",
    "    #percentage=0.01,\n",
    ")\n"
   ]
  },
  {
   "cell_type": "code",
   "execution_count": null,
   "id": "dce7b459-fcd7-45b0-9374-5c2f1642084d",
   "metadata": {},
   "outputs": [],
   "source": []
  },
  {
   "cell_type": "code",
   "execution_count": null,
   "id": "41d9e0c3-2650-4b30-9a61-079d848dd62f",
   "metadata": {
    "tags": []
   },
   "outputs": [],
   "source": [
    "def filter_plot(trace):\n",
    "    tstep = 1e-9\n",
    "    n_samples = 256\n",
    "    ff = np.fft.rfftfreq(n_samples, tstep)  # frequencies in Hz\n",
    "    print(ff.shape)\n",
    "    tt = tstep * np.arange(n_samples)\n",
    "    tt *= 1e9  #  time in ns\n",
    "    spec = np.fft.rfft(trace, axis=-2)\n",
    "    window = np.zeros(len(ff))\n",
    "    window[(ff >= 80* 1e6) & (ff <= 200 * 1e6)] = 1\n",
    "    filtered_spec = np.array(\n",
    "        [spec[..., 0] * window, spec[..., 1] * window]\n",
    "    )\n",
    "    filt = np.fft.irfft(filtered_spec, n_samples, axis=-1)\n",
    "    plt.plot(filtered_spec[:,0])\n",
    "    plt.plot(filtered_spec[:,1])"
   ]
  },
  {
   "cell_type": "code",
   "execution_count": null,
   "id": "e057a874-9824-40eb-a3a5-7cad6da13136",
   "metadata": {
    "tags": []
   },
   "outputs": [],
   "source": [
    "def process_trace(trace, outp_meta):\n",
    "    result = np.zeros((256, 4))\n",
    "    result[:,0] = outp_meta[0] + np.arange(256)*1e-9\n",
    "    result[:,1:trace.shape[1]+1] = trace\n",
    "    return result"
   ]
  },
  {
   "cell_type": "code",
   "execution_count": null,
   "id": "fdd75769-fb78-4ac7-bad3-ea3dec568986",
   "metadata": {
    "tags": []
   },
   "outputs": [],
   "source": [
    "def get_fluences(pulses,pos_array, outp_meta):\n",
    "    energy_fluences = np.zeros((len(pulses), 3))\n",
    "    for index in range(len(pulses)):\n",
    "        trace_vB = pulses[index]  # 0,1,2,3: t, vxB, vxvxB, v\n",
    "        trace_vB = process_trace(trace_vB, outp_meta[0])\n",
    "        ef = energy_fluence.calculate_energy_fluence_vector(\n",
    "            trace_vB[:, 1:], trace_vB[:, 0], remove_noise=True\n",
    "        )\n",
    "        energy_fluences[index] = ef\n",
    "    x_pos, y_pos = pos_array[:, 0], pos_array[:, 1]\n",
    "    if len(energy_fluences.shape) == 1:\n",
    "        energy_fluences = np.array([energy_fluences]).T    \n",
    "    return x_pos, y_pos, energy_fluences"
   ]
  },
  {
   "cell_type": "code",
   "execution_count": null,
   "id": "2b8a2dc3-53b3-41f2-840e-77ee4ee3d45d",
   "metadata": {
    "tags": []
   },
   "outputs": [],
   "source": [
    "def plot_interpolation(x_pos, y_pos, energy_fluences, hack = True, interp=True, mark_antennas=None, text=None): \n",
    "    if hack:\n",
    "        for index in range(len(energy_fluences)):\n",
    "            if index % 8 == 0:\n",
    "                energy_fluences[index] = (\n",
    "                    energy_fluences[index + 4] + energy_fluences[index + 5]\n",
    "                ) / 2\n",
    "            if index % 8 == 2:\n",
    "                energy_fluences[index] = (\n",
    "                    energy_fluences[index - 1] + energy_fluences[index + 1]\n",
    "                ) / 2\n",
    "    \n",
    "    \n",
    "    fig, ax = plt.subplots(\n",
    "            1,\n",
    "            4,\n",
    "            gridspec_kw={\"width_ratios\": [40, 1, 40, 1]},\n",
    "            figsize=[int(2.66 * fnt_size), fnt_size],\n",
    "        )\n",
    "    if energy_fluences.ndim == 1:\n",
    "        energy_fluences = energy_fluences.reshape((*energy_fluences.shape,1))\n",
    "    for ii in range(energy_fluences.shape[-1]):\n",
    "        energy_flu = energy_fluences[:, ii]\n",
    "\n",
    "        if np.min(energy_flu) == np.max(energy_flu):\n",
    "            print(np.min(energy_flu))\n",
    "            continue\n",
    "\n",
    "        # define positions where to interpolate\n",
    "        xs = np.linspace(np.nanmin(x_pos), np.nanmax(x_pos), 100)\n",
    "        ys = np.linspace(np.nanmin(y_pos), np.nanmax(y_pos), 100)\n",
    "        xx, yy = np.meshgrid(xs, ys)\n",
    "        # points within a circle\n",
    "        in_star = xx**2 + yy**2 <= np.nanmax(x_pos**2 + y_pos**2)\n",
    "        # interpolated values! but only in the star. outsite set to nan\n",
    "        if interp:    \n",
    "            interp_func = intp.Rbf(\n",
    "                x_pos,\n",
    "                y_pos,\n",
    "                energy_flu,\n",
    "                smooth=0,\n",
    "                function=\"quintic\",\n",
    "            )\n",
    "            fp_interp = np.where(in_star, interp_func(xx, yy), np.nan)\n",
    "        else:\n",
    "            fp_interp = energy_flu.reshape((100, 100))\n",
    "            fp_interp = np.where(in_star, fp_interp, np.nan)\n",
    "          \n",
    "        cmap = \"inferno\"  # set the colormap\n",
    "        # with vmin/vmax control that both\n",
    "        # pcolormesh and scatter use the same colorscale\n",
    "        pcm = ax[2*ii + 0].pcolormesh(\n",
    "            xx,\n",
    "            yy,\n",
    "            fp_interp,\n",
    "            vmin=np.percentile(energy_flu, 1),\n",
    "            vmax=np.percentile(energy_flu, 99),\n",
    "            cmap=cmap,\n",
    "            shading=\"gouraud\",\n",
    "        )  # use shading=\"gouraud\" to make it smoother\n",
    "        _ = ax[2*ii + 0].scatter(\n",
    "            x_pos,\n",
    "            y_pos,\n",
    "            edgecolor=\"w\",\n",
    "            facecolor=\"none\",\n",
    "            s=5.0,\n",
    "            lw=1.0,\n",
    "        )\n",
    "        cbi = fig.colorbar(pcm, pad=0.02, cax=ax[2*ii + 1])\n",
    "        cbi.set_label(r\"Energy Fluence $f$ / eV$\\,$m$^{-2}$\", fontsize=2*fnt_size)\n",
    "\n",
    "        ax[2*ii + 0].set_ylabel(\"vvxxB (m)\", fontsize=2*fnt_size)\n",
    "        ax[2*ii + 0].set_xlabel(\"vxB (m)\", fontsize=2*fnt_size)\n",
    "        ax[2*ii + 0].set_facecolor(\"black\")\n",
    "        ax[2*ii + 0].set_aspect(1)\n",
    "        ax[2*ii + 0].set_xlim(np.min(xs), np.max(xs))\n",
    "        ax[2*ii + 0].set_ylim(np.min(ys), np.max(ys))\n",
    "        if text is not None:\n",
    "            ax[2*ii + 0].set_title(f\"{text[ii]}\", fontsize=2*fnt_size)\n",
    "        else:\n",
    "            ax[2*ii + 0].set_title(f\"{ii}\", fontsize=2*fnt_size)\n",
    "        print(\"vmin = \", np.amin(energy_flu))\n",
    "        print(\"vmax = \", np.amax(energy_flu))\n",
    "        ax[2*ii + 0].tick_params(labelsize=2*fnt_size)\n",
    "        ax[2*ii + 1].tick_params(labelsize=2*fnt_size)\n",
    "    if mark_antennas is not None:\n",
    "        _ = ax[2*ii + 0].scatter(\n",
    "            x_pos[mark_antennas],\n",
    "            y_pos[mark_antennas],\n",
    "            edgecolor=\"r\",\n",
    "            facecolor=\"none\",\n",
    "            s=500.0,\n",
    "            lw=5.0,\n",
    "        ) \n",
    "        for i in mark_antennas:\n",
    "            _ = ax[2*ii + 0].annotate(\n",
    "                str(i),\n",
    "                (x_pos[i]+10,y_pos[i]+10), \n",
    "                color='green',\n",
    "                size='large',\n",
    "        ) \n",
    "    plt.tight_layout()\n",
    "    plt.savefig(\"fluence_maps.pdf\", format=\"pdf\")\n",
    "    plt.show()  "
   ]
  },
  {
   "cell_type": "code",
   "execution_count": null,
   "id": "37dbb183-3c65-4242-84bc-9cff6e39e68b",
   "metadata": {
    "tags": []
   },
   "outputs": [],
   "source": [
    "def plot_antenna_pulse(antenna_number, outp_data,outm_data, label='blah'):\n",
    "    assert 1 <= antenna_number <= 240\n",
    "    assert outm_data[antenna_number - 1, 0] == outm_data[antenna_number -1, 1]\n",
    "    steps = outm_data[antenna_number -1, 0] + np.arange(0, 256)\n",
    "    plt.plot(steps, outp_data[antenna_number-1, :, 0], label=label+'_vB')\n",
    "    plt.plot(steps, outp_data[antenna_number-1, :, 1], label=label+'_vvB')\n",
    "    plt.xlabel(\"t (ns)\")\n",
    "    plt.legend()\n",
    "    plt.show()\n",
    "    \n",
    "def plot_all_antennas(outp_datas):\n",
    "    #plt.violinplot(outp_data[:, :, 0]);\n",
    "    #plt.show();\n",
    "    #plt.violinplot(outp_data[:, :, 1]);\n",
    "    #plt.show();\n",
    "    fig, axes = plt.subplot_mosaic(\"AB\", sharex=True, sharey=True, figsize=[int(fnt_size), fnt_size/3.33])\n",
    "    for outp_data in outp_datas:\n",
    "        #plt.boxplot(outp_data[:, :, 0], showfliers=False, meanline=True);\n",
    "        axes[\"A\"].plot(np.arange(1, 257), np.median(outp_data[:, :, 0], axis=0))\n",
    "        axes[\"A\"].fill_between(np.arange(1, 257), np.percentile(outp_data[:, :, 0], 25, axis=0), np.percentile(outp_data[:, :, 0], 75, axis=0), alpha=0.2)\n",
    "        axes[\"A\"].set_xlabel(\"t (ns)\")\n",
    "        axes[\"A\"].set_ylabel(\"E (V/m)\")\n",
    "    for outp_data in outp_datas:\n",
    "        #plt.boxplot(outp_data[:, :, 1], showfliers=False, meanline=True);\n",
    "        axes[\"B\"].plot(np.arange(1, 257), np.median(outp_data[:, :, 1], axis=0))\n",
    "        axes[\"B\"].fill_between(np.arange(1, 257), np.percentile(outp_data[:, :, 1], 25, axis=0), np.percentile(outp_data[:, :, 1], 75, axis=0), alpha=0.2)\n",
    "        axes[\"B\"].set_xlabel(\"t (ns)\")\n",
    "        axes[\"B\"].set_ylabel(\"E (V/m)\")\n",
    "    plt.savefig(\"all_antennas.pdf\", format='pdf')\n",
    "    plt.show();\n"
   ]
  },
  {
   "cell_type": "code",
   "execution_count": null,
   "id": "99b5bb7a-d81c-4bbd-81c8-92e5d140311b",
   "metadata": {
    "tags": []
   },
   "outputs": [],
   "source": [
    "def box_plot(data, index=1):\n",
    "\n",
    "    _ = plt.figure(figsize=(fnt_size, fnt_size/2.33), )\n",
    "    plt.boxplot(data[:, :, index], showfliers=False, meanline=True);\n",
    "    plt.xticks()\n",
    "    plt.savefig(\"boxplot.pdf\")\n",
    "    plt.show()"
   ]
  },
  {
   "cell_type": "code",
   "execution_count": null,
   "id": "2ba7d82b-52b5-4492-9d94-9bef62d62f35",
   "metadata": {
    "tags": []
   },
   "outputs": [],
   "source": [
    "def plot_antenna_pulse2(antenna_number, outp_data1, outp_data2,outm_data):\n",
    "    assert 1 <= antenna_number <= 240\n",
    "    assert outm_data[antenna_number - 1, 0] == outm_data[antenna_number -1, 1]\n",
    "    steps = outm_data[antenna_number -1, 0] + np.arange(0, 256)\n",
    "    fig, ax = plt.subplot_mosaic(\"AB\", figsize=[int(fnt_size), fnt_size/3.33])\n",
    "    ax[\"A\"].plot(steps, outp_data1[antenna_number-1, :, 0], label='NN')\n",
    "    ax[\"A\"].plot(steps, outp_data2[antenna_number-1, :, 0], label='CoREAS')\n",
    "    ax[\"A\"].set_title(f\"Geomagnetic Effect for Antenna {antenna_number}\")\n",
    "    ax[\"B\"].plot(steps, outp_data1[antenna_number-1, :, 1], label='NN')\n",
    "    ax[\"B\"].plot(steps, outp_data2[antenna_number-1, :, 1], label='CoREAS')\n",
    "    ax[\"B\"].set_title(f\"Charge Excess for Antenna {antenna_number}\")\n",
    "    ax[\"A\"].set_xlabel(\"t (ns)\");    ax[\"B\"].set_xlabel(\"t (ns)\")\n",
    "    ax[\"A\"].set_ylabel(\"E (V/m)\");    ax[\"B\"].set_ylabel(\"E (V/m)\")\n",
    "    ax[\"A\"].legend();     ax[\"B\"].legend()\n",
    "    fig.tight_layout()\n",
    "    return fig\n"
   ]
  },
  {
   "cell_type": "code",
   "execution_count": null,
   "id": "86c8c283-7205-4835-9e2c-497469ff9f2c",
   "metadata": {},
   "outputs": [],
   "source": [
    "from radioNN.data.transforms import sph2cart, cart2sph\n",
    "sph2cart(cart2sph(np.array([[1, 0, 0], [0, 1, 0], [-1, 0, 0], [0, -1, 0]], dtype=float)))"
   ]
  },
  {
   "cell_type": "code",
   "execution_count": null,
   "id": "7d21c0d4-3c6b-4f79-9386-6a5eb23326aa",
   "metadata": {},
   "outputs": [],
   "source": [
    "inp_data_real, inp_meta_real, antenna_pos_real, outp_meta_real, outp_data_real = dataset.data_of_single_shower(16)\n",
    "#plot_interpolation(*get_fluences(outp_data_real, antenna_pos_real*250, outp_meta_real))"
   ]
  },
  {
   "cell_type": "code",
   "execution_count": null,
   "id": "7d354972-4869-4d98-be78-846ccfe95951",
   "metadata": {},
   "outputs": [],
   "source": [
    "#box_plot(outp_data_real)"
   ]
  },
  {
   "cell_type": "code",
   "execution_count": null,
   "id": "a3bc155a-fd94-482e-95a1-2c9b9af7668b",
   "metadata": {},
   "outputs": [],
   "source": [
    "box_plot(outp_data_real, index=0)"
   ]
  },
  {
   "cell_type": "code",
   "execution_count": null,
   "id": "a36b78fa-0a96-40fd-b7ac-60620cd34cf9",
   "metadata": {
    "tags": []
   },
   "outputs": [],
   "source": [
    "plot_all_antennas([outp_data_real])"
   ]
  },
  {
   "cell_type": "code",
   "execution_count": null,
   "id": "4ffd9cd7-8520-4b32-89ef-3293b38a980c",
   "metadata": {},
   "outputs": [],
   "source": [
    "one_shower = 17\n",
    "print(f\"Use shower {one_shower}\")\n",
    "process = NetworkProcess(model_class=AntennaNetworkSkipFC,\n",
    "                       # one_shower=one_shower, \n",
    "                        percentage=100,\n",
    "                         batch_size=8, wb=False,\n",
    "                         )\n",
    "num_epochs = 500\n",
    "#print(process.model)"
   ]
  },
  {
   "cell_type": "code",
   "execution_count": null,
   "id": "b54bcf2e-3a51-49b4-8555-005afd196ce2",
   "metadata": {
    "scrolled": true,
    "tags": []
   },
   "outputs": [],
   "source": [
    "#process.full_training(num_epochs)\n",
    "#process.model = torch.load(\"/home/pranav/MEGA/work-stuff/radio_nn/runs/2309Sep08Fri_172951/SavedModel\", map_location=torch.device('cpu'))\n",
    "#process.model = torch.load(\"/home/pranav/MEGA/work-stuff/radio_nn/runs/2309Sep26Tue_161654/SavedModel\", map_location=torch.device('cpu'))\n",
    "process.model = torch.load(\"runs/2503Mar25Tue_100818/SavedModel\", map_location=torch.device('cpu'))\n",
    "\n",
    "\n",
    "process.model.eval()"
   ]
  },
  {
   "cell_type": "code",
   "execution_count": null,
   "id": "842833e4-c63e-44c7-acc0-ab49c0755fbe",
   "metadata": {
    "tags": []
   },
   "outputs": [],
   "source": [
    "outp_meta_sim, outp_data_sim = process.pred_one_shower(17)\n",
    "inp_data_real, inp_meta_real, antenna_pos_real, outp_meta_real, outp_data_real = dataset.data_of_single_shower(17)\n",
    "plot_antenna_pulse2(12, outp_data_sim, outp_data_real, outp_meta_real);"
   ]
  },
  {
   "cell_type": "code",
   "execution_count": null,
   "id": "5711f365-4879-47e6-96b4-775f2b133948",
   "metadata": {
    "tags": []
   },
   "outputs": [],
   "source": [
    "plot_all_antennas([outp_data_real, outp_data_sim])"
   ]
  },
  {
   "cell_type": "code",
   "execution_count": null,
   "id": "1ef3a9d4-242a-46bd-b5dc-0d472f756102",
   "metadata": {
    "tags": []
   },
   "outputs": [],
   "source": [
    "plot_all_antennas([outp_data_real])\n",
    "plot_all_antennas([outp_data_sim])"
   ]
  },
  {
   "cell_type": "code",
   "execution_count": null,
   "id": "ca00a086-974c-4d32-93dc-aa5eae1deba5",
   "metadata": {
    "tags": []
   },
   "outputs": [],
   "source": []
  },
  {
   "cell_type": "code",
   "execution_count": null,
   "id": "b7405a8f-378f-48ed-a700-d5dfea9818ae",
   "metadata": {},
   "outputs": [],
   "source": [
    "print(f\"Number of Parameters: {sum(p.numel() for p in process.model.parameters())}\")"
   ]
  },
  {
   "cell_type": "code",
   "execution_count": null,
   "id": "a7dd23a2-d10b-42de-8aec-77e06e4c47a2",
   "metadata": {},
   "outputs": [],
   "source": [
    "print(f\"Number of Trainable Parameters: {sum(p.numel() for p in process.model.parameters() if p.requires_grad)}\")"
   ]
  },
  {
   "cell_type": "code",
   "execution_count": null,
   "id": "e857e796-9652-46bd-9642-23e560c235fe",
   "metadata": {
    "jupyter": {
     "source_hidden": true
    },
    "tags": []
   },
   "outputs": [],
   "source": [
    "from radioNN.data.transforms import sph2cart, cart2sph\n",
    "def check_shower(shower, antenna=None):\n",
    "    print(shower)\n",
    "    sim = process.pred_one_shower(shower)[1]\n",
    "    data = dataset.data_of_single_shower(shower)\n",
    "    pos, meta, real = data[2], data[3], data[4]\n",
    "    pos = sph2cart(pos)\n",
    "    if antenna is None:\n",
    "        antenna = np.random.choice(np.arange(240))\n",
    "    #plot_antenna_pulse2(antenna, sim, real, meta);\n",
    "    #plot_all_antennas([sim])\n",
    "    #plot_all_antennas([real])\n",
    "    plot_interpolation(*get_fluences(real, pos, meta))\n",
    "    plot_interpolation(*get_fluences(sim, pos, meta))\n",
    "    error = ((real-sim)**2).mean(axis=(1,2))\n",
    "    plot_interpolation(pos[:,0], pos[:,1],error)\n",
    "    #plot_interpolation(*get_fluences(process.pred_one_shower_entire_array(shower)[1], pos*250, meta), interp=False, hack=False)\n",
    "    print(\"--------------------------------------\")"
   ]
  },
  {
   "cell_type": "code",
   "execution_count": null,
   "id": "c3409c15-daf3-4d84-ab96-1b6dfc927937",
   "metadata": {
    "tags": []
   },
   "outputs": [],
   "source": [
    "check_shower(33, antenna=14)"
   ]
  },
  {
   "cell_type": "code",
   "execution_count": null,
   "id": "462bfecb-017c-4f46-a37a-c62f209e9fe0",
   "metadata": {
    "tags": []
   },
   "outputs": [],
   "source": [
    "plt.boxplot(process.dataset.return_data()[1].T, showfliers=False, meanline=True);"
   ]
  },
  {
   "cell_type": "code",
   "execution_count": null,
   "id": "9f20a62c-ff2e-4cde-afbc-a22157c32a2b",
   "metadata": {
    "tags": []
   },
   "outputs": [],
   "source": [
    "plt.boxplot(process.dataset.return_data()[1].T, showfliers=False, meanline=True);"
   ]
  },
  {
   "cell_type": "code",
   "execution_count": null,
   "id": "3c3842fc-cd7a-4f22-ba76-c173d06e47c9",
   "metadata": {
    "scrolled": true,
    "tags": []
   },
   "outputs": [],
   "source": [
    "for sh in np.random.choice(np.unique(process.dataset.indices//240), size=5):\n",
    "    pass\n",
    "    #check_shower(sh)"
   ]
  },
  {
   "cell_type": "code",
   "execution_count": null,
   "id": "36d48f3a-3e41-468b-a881-1248af21f90c",
   "metadata": {
    "scrolled": true,
    "tags": []
   },
   "outputs": [],
   "source": [
    "for sh in np.random.choice(np.arange(58266), size=5):\n",
    "    pass\n",
    "    #check_shower(sh)\n"
   ]
  },
  {
   "cell_type": "code",
   "execution_count": null,
   "id": "5fd85341-e0bf-4df5-98e0-396008f7e9b0",
   "metadata": {},
   "outputs": [],
   "source": [
    "??dataset.data_of_single_shower"
   ]
  },
  {
   "cell_type": "code",
   "execution_count": null,
   "id": "e8711186-4d77-4111-b556-c4290cb5256f",
   "metadata": {},
   "outputs": [],
   "source": [
    "sim = process.pred_one_shower(27575)[1]\n",
    "data = dataset.data_of_single_shower(27575)\n",
    "pos, meta, real = data[2], data[3], data[4]\n",
    "pos = sph2cart(pos)"
   ]
  },
  {
   "cell_type": "code",
   "execution_count": null,
   "id": "dcf78f19-763e-4fae-ab0e-a56f1c05a954",
   "metadata": {
    "tags": []
   },
   "outputs": [],
   "source": [
    "plot_antenna_pulse2(14, sim, real, meta);"
   ]
  },
  {
   "cell_type": "code",
   "execution_count": null,
   "id": "afd02158-5a75-4849-acc9-35906a48c9c0",
   "metadata": {},
   "outputs": [],
   "source": [
    "plot_antenna_pulse2(90, sim, real, meta);"
   ]
  },
  {
   "cell_type": "code",
   "execution_count": null,
   "id": "bd95d0f7-083f-40b6-be31-824103a2b047",
   "metadata": {
    "tags": []
   },
   "outputs": [],
   "source": [
    "plot_antenna_pulse2(200, sim, real, meta)"
   ]
  },
  {
   "cell_type": "code",
   "execution_count": null,
   "id": "f26a9948-7542-4173-bc48-476a4045d044",
   "metadata": {
    "tags": []
   },
   "outputs": [],
   "source": [
    "box_plot(real);\n"
   ]
  },
  {
   "cell_type": "code",
   "execution_count": null,
   "id": "12cb43fb-46ac-4a3e-86d6-2f839014f4ba",
   "metadata": {
    "tags": []
   },
   "outputs": [],
   "source": [
    "box_plot(sim);"
   ]
  },
  {
   "cell_type": "code",
   "execution_count": null,
   "id": "bc6037d0-de0f-47af-8516-e9eb88420ecb",
   "metadata": {},
   "outputs": [],
   "source": [
    "mask = np.logical_and(30 <= np.fft.rfftfreq(256, 1e-9)/1e6, np.fft.rfftfreq(256, 1e-9)/1e6 <=80)"
   ]
  },
  {
   "cell_type": "code",
   "execution_count": null,
   "id": "87c937ef-e6cf-46cb-bff0-eb19f23b04fd",
   "metadata": {
    "tags": []
   },
   "outputs": [],
   "source": [
    "plt.plot((np.fft.rfftfreq(256, 1e-9)/1e6)[mask],np.fft.rfft(real[14,:,0]).real[mask], marker='.')\n",
    "plt.plot((np.fft.rfftfreq(256, 1e-9)/1e6)[mask],np.fft.rfft(real[14,:,0]).imag[mask], marker='.')"
   ]
  },
  {
   "cell_type": "code",
   "execution_count": null,
   "id": "2111f8e3-963f-452c-a8d3-4485e1e0eb90",
   "metadata": {
    "tags": []
   },
   "outputs": [],
   "source": [
    "plt.plot((np.fft.rfftfreq(256, 1e-9)/1e6)[mask],np.abs(np.fft.rfft(real[14,:,0]))[mask], marker='.')\n"
   ]
  },
  {
   "cell_type": "code",
   "execution_count": null,
   "id": "af2d200e-e7ae-445b-8c4f-2a12a34ad2b9",
   "metadata": {
    "tags": []
   },
   "outputs": [],
   "source": [
    "plt.plot((np.fft.rfftfreq(256, 1e-9)/1e6)[mask],((np.angle(np.fft.rfft(real[14,:,0]))+np.pi/2)%np.pi)[mask]/np.pi, marker='.')\n",
    "plt.ylabel(r\"$\\theta/\\pi$\")\n",
    "plt.xlabel(\"$f$\")"
   ]
  },
  {
   "cell_type": "code",
   "execution_count": null,
   "id": "5a9b205d-88c8-4654-84b2-89f3b0c25336",
   "metadata": {
    "jupyter": {
     "source_hidden": true
    },
    "tags": []
   },
   "outputs": [],
   "source": [
    "plt.boxplot(np.abs(np.fft.rfft(real[:,:,0], axis=1)));\n",
    "plt.xlim([np.min(np.arange(129)[mask]), np.max(np.arange(129)[mask])+2])\n",
    "plt.yscale(\"log\")\n",
    "plt.ylabel(\"power spectrum\")\n",
    "plt.xlabel(\"freq\")\n",
    "plt.title(\"Real Power spectrum distribution\")\n",
    "plt.savefig(\"realspec.pdf\", format='pdf')"
   ]
  },
  {
   "cell_type": "code",
   "execution_count": null,
   "id": "c1254fe6-c07b-4fcc-901b-8b94315e3215",
   "metadata": {},
   "outputs": [],
   "source": []
  },
  {
   "cell_type": "code",
   "execution_count": null,
   "id": "f6c3875a-8ddd-4eec-a875-8846cb3887e9",
   "metadata": {
    "jupyter": {
     "source_hidden": true
    },
    "tags": []
   },
   "outputs": [],
   "source": [
    "plt.boxplot(np.abs(np.fft.rfft(sim[:,:,0], axis=1)));\n",
    "plt.xlim([np.min(np.arange(129)[mask]), np.max(np.arange(129)[mask])+2])\n",
    "plt.yscale(\"log\")\n",
    "plt.ylabel(\"power spectrum\")\n",
    "plt.xlabel(\"freq\")\n",
    "plt.title(\"Generated Power spectrum distribution\")\n",
    "plt.savefig(\"simspec.pdf\", format='pdf')"
   ]
  },
  {
   "cell_type": "code",
   "execution_count": null,
   "id": "880196a1-4b35-4cb7-ace2-d5cca0f3e738",
   "metadata": {
    "tags": []
   },
   "outputs": [],
   "source": [
    "plt.boxplot(np.real(np.fft.rfft(real[:,:,0], axis=1)),showfliers=False);\n",
    "plt.xlim([np.min(np.arange(129)[mask]), np.max(np.arange(129)[mask])+2])"
   ]
  },
  {
   "cell_type": "code",
   "execution_count": null,
   "id": "879ec513-5d9c-4a5e-bbc7-b0597cb92c1d",
   "metadata": {
    "tags": []
   },
   "outputs": [],
   "source": [
    "plt.boxplot(np.imag(np.fft.rfft(real[:,:,0], axis=1)),showfliers=False , meanline=True);\n",
    "plt.xlim([np.min(np.arange(129)[mask]), np.max(np.arange(129)[mask])+2])"
   ]
  },
  {
   "cell_type": "code",
   "execution_count": null,
   "id": "a9fe4354-3eed-4bf7-bdc1-dc7e759da886",
   "metadata": {
    "jupyter": {
     "source_hidden": true
    },
    "tags": []
   },
   "outputs": [],
   "source": [
    "plt.boxplot(((np.angle(np.fft.rfft(real[:,:,0], axis=1))))/np.pi);\n",
    "plt.xlim([np.min(np.arange(129)[mask]), np.max(np.arange(129)[mask])+2])\n",
    "plt.ylabel(\"phase\")\n",
    "plt.title(\"Real Phase distribution\")\n",
    "plt.xlabel(\"freq\")"
   ]
  },
  {
   "cell_type": "code",
   "execution_count": null,
   "id": "7629bffb-e32b-40a4-aa0f-d9b4f05cad23",
   "metadata": {
    "jupyter": {
     "source_hidden": true
    },
    "tags": []
   },
   "outputs": [],
   "source": [
    "plt.boxplot(((np.angle(np.fft.rfft(sim[:,:,0], axis=1))))/np.pi);\n",
    "plt.xlim([np.min(np.arange(129)[mask]), np.max(np.arange(129)[mask])+2])\n",
    "plt.ylabel(\"phase\")\n",
    "plt.title(\"Generated Phase distribution\")\n",
    "plt.xlabel(\"freq\")"
   ]
  },
  {
   "cell_type": "code",
   "execution_count": null,
   "id": "0c5435d9-ef85-4fc0-9778-75cff8c08910",
   "metadata": {
    "jupyter": {
     "source_hidden": true
    },
    "tags": []
   },
   "outputs": [],
   "source": [
    "if True:\n",
    "    from scipy import signal as sg\n",
    "    tdata = real[45,:,0]\n",
    "    print(tdata.shape)\n",
    "    hdata = sg.hilbert(tdata)\n",
    "    plt.plot(np.abs(hdata));plt.show()\n",
    "    plt.plot(np.angle(hdata));plt.show()\n",
    "    plt.plot(tdata);plt.show()\n",
    "    phase = (np.angle(np.fft.rfft(tdata))[mask])\n",
    "    spec = np.abs(np.fft.rfft(tdata))[mask]\n",
    "    plt.plot(spec) ; plt.show()\n",
    "    plt.plot(phase); plt.show()\n",
    "    data = np.zeros(129, dtype=np.complex256)\n",
    "    data[mask] = spec * np.exp(1j*phase)\n",
    "    plt.plot(np.fft.irfft(data), label=\"reverse\")\n",
    "    plt.plot(tdata, label=\"real\")\n",
    "    plt.legend()\n",
    "    plt.show()\n"
   ]
  },
  {
   "cell_type": "code",
   "execution_count": null,
   "id": "d7543624-7b7e-4833-9204-c72ef6b5a8ec",
   "metadata": {},
   "outputs": [],
   "source": [
    "np.fft.rfft(real, axis=1).T.shape"
   ]
  },
  {
   "cell_type": "code",
   "execution_count": null,
   "id": "5a049d55-64ff-47b9-86b2-4bd8ba8364bc",
   "metadata": {},
   "outputs": [],
   "source": [
    "real.shape"
   ]
  },
  {
   "cell_type": "code",
   "execution_count": null,
   "id": "fc741038-48ee-498e-885b-40487d65813e",
   "metadata": {},
   "outputs": [],
   "source": [
    "np.concatenate([np.fft.rfft(real.T, axis=1)[:,mask],np.fft.rfft(real.T, axis=1)[:,mask]], axis=0).shape"
   ]
  },
  {
   "cell_type": "code",
   "execution_count": null,
   "id": "4b1a729d-e877-4c5b-a7ea-2dbce47678cd",
   "metadata": {},
   "outputs": [],
   "source": []
  },
  {
   "cell_type": "code",
   "execution_count": null,
   "id": "c0dc7fed-7786-4481-9908-8d58007724cc",
   "metadata": {},
   "outputs": [],
   "source": [
    "26387"
   ]
  },
  {
   "cell_type": "code",
   "execution_count": null,
   "id": "e2d64e51-d887-4d65-b76e-b08a7387cc74",
   "metadata": {},
   "outputs": [],
   "source": [
    "def plot_polarity(pos, polarity, radius):  \n",
    "    plt.scatter(pos[:, 0][polarity[:,0]], pos[:, 1][polarity[:,0]], marker='.', label='+')\n",
    "    plt.scatter(pos[:, 0][~polarity[:,0]], pos[:, 1][~polarity[:,0]], marker='.', label='-')\n",
    "    plt.gca().add_artist(plt.Circle((0,0), radius,  alpha=0.1))\n",
    "    plt.legend()\n",
    "    plt.show()\n",
    "\n",
    "def check_shower(shower, antenna=None):\n",
    "    print(shower)\n",
    "    sim = process.pred_one_shower(shower)[1]\n",
    "    data = dataset.data_of_single_shower(shower)\n",
    "    pos, meta, real = data[2], data[3], data[4]\n",
    "    pos = sph2cart(pos)\n",
    "    if antenna is None:\n",
    "        antenna = np.random.choice(np.arange(240))\n",
    "    else:\n",
    "        for i in antenna:\n",
    "            plot_antenna_pulse2(i, sim, real, meta);\n",
    "\n",
    "    #plot_all_antennas([sim])\n",
    "    #plot_all_antennas([real])\n",
    "    plot_interpolation(*get_fluences(real, pos, meta), text=[\"Geomagnetic Effect\",\"Charge Excess\"])\n",
    "    plot_interpolation(*get_fluences(sim, pos, meta), text=[\"Geomagnetic Effect\",\"Charge Excess\"])\n",
    "    #error = ((real-sim)**2).mean(axis=(1,2))\n",
    "    #plot_interpolation(pos[:,0], pos[:,1],error)\n",
    "    \n",
    "\n",
    "    #plot_interpolation(*get_fluences(process.pred_one_shower_entire_array(shower)[1], pos*250, meta), interp=False, hack=False)\n",
    "    print(\"--------------------------------------\")\n",
    "    polarity = ((real-np.abs(real)**2).mean(axis=(1,2))) > (np.abs(real)**2).mean(axis=(1,2))\n",
    "    #plot_interpolation(pos[:,0], pos[:,1],np.where(polarity,1, -1), interp=True )\n",
    "\n",
    "    #plot_polarity(pos, polarity, 144)\n",
    "\n",
    "    \n",
    "\n",
    "    pulse_max = np.max(real, axis=1)\n",
    "    pulse_min = np.min(real, axis=1)\n",
    "    polarity = np.where(np.abs(pulse_max) > np.abs(pulse_min), 1, -1)\n",
    "    pulse_max = np.max(sim, axis=1)\n",
    "    pulse_min = np.min(sim, axis=1)\n",
    "    polarity_sim = np.where(np.abs(pulse_max) > np.abs(pulse_min), 1, -1)\n",
    "    plot_interpolation(pos[:,0], pos[:,1],polarity, interp=True, mark_antennas=antenna, text=[\"Geomagnetic Effect\",\"Charge Excess\"] )\n",
    "    plot_interpolation(pos[:,0], pos[:,1],polarity_sim, interp=True, mark_antennas=antenna , text=[\"Geomagnetic Effect\",\"Charge Excess\"])\n",
    "    plot_interpolation(pos[:,0], pos[:,1],np.log10(np.max(np.abs(real), axis=1)), interp=True, mark_antennas=antenna , text=[\"Geomagnetic Effect\",\"Charge Excess\"])\n",
    "    plot_interpolation(pos[:,0], pos[:,1],np.log10(np.max(np.abs(sim), axis=1)), interp=True, mark_antennas=antenna , text=[\"Geomagnetic Effect\",\"Charge Excess\"])\n",
    "    plt.hist(np.log10(np.max(np.abs(real), axis=1)), bins=50, log=True)\n",
    "    plt.show()\n",
    "    plt.hist(np.log10(np.max(np.abs(sim), axis=1)), bins=50, log=True)\n",
    "    plt.show()\n",
    "    plot_antenna_pulse2(205, sim, real, meta)\n",
    "    #polarity = np.where(np.abs(pulse_max) < np.abs(pulse_min), True, False)\n",
    "    #print(polarity.shape)\n",
    "    #print(polarity.sum()/2)\n",
    "    #plot_polarity(pos, polarity, 144)\n",
    "    plot_interpolation(pos[:,0], pos[:,1],polarity, interp=True, text=[\"Geomagnetic Effect\",\"Charge Excess\"] )\n",
    "    plot_interpolation(pos[:,0], pos[:,1],np.max(np.abs(real), axis=1), interp=True, text=[\"Geomagnetic Effect\",\"Charge Excess\"])\n",
    "\n",
    "check_shower(26387, antenna=[14, 45, 90])\n",
    "#check_shower(27575, antenna=[14, 45, 90])"
   ]
  },
  {
   "cell_type": "code",
   "execution_count": null,
   "id": "9e943a4a-a8a0-4af9-91fb-42fdb24beae7",
   "metadata": {},
   "outputs": [],
   "source": [
    "plot_interpolation( pos[:,0], pos[:,1],np.exp(meta), interp=True , hack=False)"
   ]
  },
  {
   "cell_type": "code",
   "execution_count": null,
   "id": "fed54ad6-8d6c-41d7-aadc-d47ec4fcb5d2",
   "metadata": {},
   "outputs": [],
   "source": [
    "check_shower(26387, antenna=[14, 45, 90, 157])"
   ]
  },
  {
   "cell_type": "code",
   "execution_count": null,
   "id": "dd65d4e0-ce76-43d0-abab-bfd4af265363",
   "metadata": {},
   "outputs": [],
   "source": [
    "inp_meta_real[3]"
   ]
  },
  {
   "cell_type": "code",
   "execution_count": null,
   "id": "b537e8c6-cef2-4288-a2d7-4b03069c3508",
   "metadata": {},
   "outputs": [],
   "source": [
    "np.arccos(1/inp_meta_real[3])"
   ]
  },
  {
   "cell_type": "code",
   "execution_count": null,
   "id": "951891ea-6422-44c3-8ef2-4754bb5f6b08",
   "metadata": {},
   "outputs": [],
   "source": [
    "inp_meta_real"
   ]
  },
  {
   "cell_type": "code",
   "execution_count": null,
   "id": "943fe1c6-0373-42ea-89dc-ada574aca912",
   "metadata": {},
   "outputs": [],
   "source": [
    "inp_data_real[0].shape"
   ]
  },
  {
   "cell_type": "code",
   "execution_count": null,
   "id": "ab18d6b3-9f49-435d-af65-8b8c9a35197a",
   "metadata": {},
   "outputs": [],
   "source": [
    "inp_meta_real[1]*700"
   ]
  },
  {
   "cell_type": "code",
   "execution_count": null,
   "id": "30768a6c-275c-4089-b1a8-3cecb78e393b",
   "metadata": {},
   "outputs": [],
   "source": [
    "dataset.input_data[26387].shape"
   ]
  },
  {
   "cell_type": "code",
   "execution_count": null,
   "id": "87711082-def9-4bd3-873e-5806d2770136",
   "metadata": {},
   "outputs": [],
   "source": [
    "dataset.input_data[0].shape"
   ]
  },
  {
   "cell_type": "code",
   "execution_count": null,
   "id": "657a77d2-fe1b-4feb-a966-2efb0bc79443",
   "metadata": {},
   "outputs": [],
   "source": [
    "plt.plot(dataset.input_data[26387][:,6])\n",
    "plt.vlines(70, 0, np.max(dataset.input_data[26387][:,6]), 'r')"
   ]
  },
  {
   "cell_type": "raw",
   "id": "48e06fa8-ab8e-4895-87e9-8a2883212b40",
   "metadata": {},
   "source": [
    "    69   743038.050436            690.000000     16705877.066315"
   ]
  },
  {
   "cell_type": "code",
   "execution_count": null,
   "id": "965bb0fa-3f4d-4f91-83ce-7557b944b112",
   "metadata": {},
   "outputs": [],
   "source": [
    "743038/100"
   ]
  },
  {
   "cell_type": "code",
   "execution_count": null,
   "id": "86df6ac5-8d7a-4076-bc70-d13f0e6352d9",
   "metadata": {},
   "outputs": [],
   "source": [
    "7.43038e3"
   ]
  },
  {
   "cell_type": "code",
   "execution_count": null,
   "id": "5627d600-e4ef-4b15-ad02-8c6ff9a99469",
   "metadata": {},
   "outputs": [],
   "source": [
    "dataset.input_meta[26387][2]"
   ]
  },
  {
   "cell_type": "code",
   "execution_count": null,
   "id": "bfb5c1f4-959b-49b0-b159-eedfeecc498a",
   "metadata": {},
   "outputs": [],
   "source": [
    "1.67e5"
   ]
  },
  {
   "cell_type": "code",
   "execution_count": null,
   "id": "3e395170-fd7a-49cc-be5a-3e84e46ac46b",
   "metadata": {},
   "outputs": [],
   "source": [
    "dataset.input_data[26387][:,9]"
   ]
  },
  {
   "cell_type": "code",
   "execution_count": null,
   "id": "75b4466a-1b6f-4077-87cc-d6ce36af2f7e",
   "metadata": {},
   "outputs": [],
   "source": [
    "np.arccos( 1/1.0000069)"
   ]
  },
  {
   "cell_type": "code",
   "execution_count": null,
   "id": "1e1dca78-fae5-43d8-b2bf-31d37eb233a0",
   "metadata": {},
   "outputs": [],
   "source": [
    "9354*np.arccos( 1/1.00012)"
   ]
  },
  {
   "cell_type": "code",
   "execution_count": null,
   "id": "c5abee80-28a4-4134-ad17-b518dec13d5f",
   "metadata": {},
   "outputs": [],
   "source": [
    "dataset.input_meta[26387][4]"
   ]
  },
  {
   "cell_type": "code",
   "execution_count": null,
   "id": "296a689b-eb56-41fb-a774-6dac236b2b3a",
   "metadata": {},
   "outputs": [],
   "source": [
    "def box_plot(data):\n",
    "    SMALL_SIZE = 14\n",
    "    MEDIUM_SIZE = 18\n",
    "    BIGGER_SIZE = 22\n",
    "\n",
    "    plt.rc('font', size=SMALL_SIZE)          # controls default text sizes\n",
    "    plt.rc('axes', titlesize=SMALL_SIZE)     # fontsize of the axes title\n",
    "    plt.rc('axes', labelsize=MEDIUM_SIZE)    # fontsize of the x and y labels\n",
    "    plt.rc('xtick', labelsize=SMALL_SIZE)    # fontsize of the tick labels\n",
    "    plt.rc('ytick', labelsize=SMALL_SIZE)    # fontsize of the tick labels\n",
    "    plt.rc('legend', fontsize=SMALL_SIZE)    # legend fontsize\n",
    "    plt.rc('figure', titlesize=BIGGER_SIZE)  # fontsize of the figure title\n",
    "\n",
    "    _ = plt.figure(figsize=(fnt_size, fnt_size/2.33), )\n",
    "    plt.boxplot(data[:, :, 1], showfliers=False, meanline=True);\n",
    "    plt.xticks(ticks=np.where(np.arange(256)%10==0)[0], labels=np.where(np.arange(256)%10==0)[0])\n",
    "    plt.title(\"All the radio pulses for a single event\")\n",
    "    plt.ylabel(\"E(V/m)\")\n",
    "    plt.xlabel(\"t(ns)\")\n",
    "    plt.savefig(\"boxplot.pdf\", format='pdf')\n",
    "    plt.show()\n",
    "box_plot(real);"
   ]
  },
  {
   "cell_type": "code",
   "execution_count": null,
   "id": "936ab635-769d-4a88-994d-3fedcf3598b0",
   "metadata": {},
   "outputs": [],
   "source": [
    "box_plot(sim);"
   ]
  },
  {
   "cell_type": "code",
   "execution_count": null,
   "id": "b5b27768-3769-4e48-8e65-ef8b45aaac5e",
   "metadata": {},
   "outputs": [],
   "source": [
    "np.where(np.arange(256)%10==9)"
   ]
  },
  {
   "cell_type": "code",
   "execution_count": null,
   "id": "332a8d34-21bc-4cef-bc9b-dcb0d3b7bbf7",
   "metadata": {},
   "outputs": [],
   "source": [
    "?np.where"
   ]
  },
  {
   "cell_type": "code",
   "execution_count": null,
   "id": "458ea100-8fe2-41ab-bd3a-4d6ab6f73488",
   "metadata": {},
   "outputs": [],
   "source": []
  }
 ],
 "metadata": {
  "kernelspec": {
   "display_name": "PuandaRadio",
   "language": "python",
   "name": "python3"
  },
  "language_info": {
   "codemirror_mode": {
    "name": "ipython",
    "version": 3
   },
   "file_extension": ".py",
   "mimetype": "text/x-python",
   "name": "python",
   "nbconvert_exporter": "python",
   "pygments_lexer": "ipython3",
   "version": "3.10.14"
  }
 },
 "nbformat": 4,
 "nbformat_minor": 5
}
